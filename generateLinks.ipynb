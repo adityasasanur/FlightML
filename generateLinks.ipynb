{
 "cells": [
  {
   "attachments": {},
   "cell_type": "markdown",
   "metadata": {},
   "source": [
    "## Imports"
   ]
  },
  {
   "cell_type": "code",
   "execution_count": 3,
   "metadata": {},
   "outputs": [],
   "source": [
    "# %load_ext autoreload\n",
    "%reload_ext autoreload\n",
    "%autoreload 2\n",
    "\n",
    "from bs4 import BeautifulSoup as BS\n",
    "import cloudscraper\n",
    "import os.path\n",
    "import json"
   ]
  },
  {
   "attachments": {},
   "cell_type": "markdown",
   "metadata": {},
   "source": [
    "## Get airports and their connecting airports"
   ]
  },
  {
   "cell_type": "code",
   "execution_count": 4,
   "metadata": {},
   "outputs": [],
   "source": [
    "airportsFile = open(\"airportList.csv\")\n",
    "airports = airportsFile.readlines()\n",
    "airports = airports[0].split(',')"
   ]
  },
  {
   "attachments": {},
   "cell_type": "markdown",
   "metadata": {},
   "source": [
    "## Get connecting airports"
   ]
  },
  {
   "cell_type": "code",
   "execution_count": 5,
   "metadata": {},
   "outputs": [],
   "source": [
    "# We want to webscrape urls that look like this:\n",
    "# https://www.flightsfrom.com/ATL/destinations?countries=US&durationFrom=44&durationTo=999\n",
    "scraper = cloudscraper.create_scraper()\n",
    "connections = {}\n",
    "if not os.path.isfile(\"utils/outgoingDictionary.txt\"):\n",
    "    for airport in airports:\n",
    "        url = \"https://www.flightsfrom.com/\" + airport + \"/destinations?countries=US&durationFrom=44&durationTo=999\"\n",
    "        r = scraper.get(url)\n",
    "        soup = BS(r.text, 'html.parser')\n",
    "        outgoingAirports = soup.find_all(class_ = \"airport-font-midheader destination-search-item\")\n",
    "        connections[airport] = []\n",
    "        for outgoing in outgoingAirports:\n",
    "            connections[airport].append(str(outgoing).split(\" \")[-1][:3])\n",
    "    f = open(\"utils/outgoingDictionary.txt\",\"x\")\n",
    "    json.dump(connections,f)\n",
    "else:\n",
    "    connections = json.load(open(\"utils/outgoingDictionary.txt\"))\n"
   ]
  },
  {
   "attachments": {},
   "cell_type": "markdown",
   "metadata": {},
   "source": [
    "## Create links to all flight searches"
   ]
  },
  {
   "cell_type": "code",
   "execution_count": 20,
   "metadata": {},
   "outputs": [],
   "source": [
    "#We want to create urls that look like this:\n",
    "# \"https://www.google.com/travel/flights?q=one%20way%20Flights%20to%20SNA%20from%20ATL%20on%202023-09-13\"\n",
    "if not os.path.isfile(\"flightLinks.csv\"):\n",
    "    f = open(\"flightLinks.csv\",\"x\")\n",
    "    for startAirport in connections.keys():\n",
    "        for endAirport in connections[startAirport]:\n",
    "            searchURL = \"https://www.google.com/travel/flights?q=one%20way%20Flights%20to%20\"+endAirport+\"%20from%20\"+startAirport+\"%20on%20,\"\n",
    "            f.write(searchURL+\"\\n\")\n",
    "    f.close()"
   ]
  },
  {
   "attachments": {},
   "cell_type": "markdown",
   "metadata": {},
   "source": [
    "## Create Airport Integer Encodings"
   ]
  },
  {
   "cell_type": "code",
   "execution_count": null,
   "metadata": {},
   "outputs": [],
   "source": [
    "airport_to_int = {}\n",
    "for i,airport in enumerate(airports):\n",
    "    airport_to_int[airport] = i\n"
   ]
  }
 ],
 "metadata": {
  "kernelspec": {
   "display_name": "Python 3",
   "language": "python",
   "name": "python3"
  },
  "language_info": {
   "codemirror_mode": {
    "name": "ipython",
    "version": 3
   },
   "file_extension": ".py",
   "mimetype": "text/x-python",
   "name": "python",
   "nbconvert_exporter": "python",
   "pygments_lexer": "ipython3",
   "version": "3.10.0"
  },
  "orig_nbformat": 4
 },
 "nbformat": 4,
 "nbformat_minor": 2
}
