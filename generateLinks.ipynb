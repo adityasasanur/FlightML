{
 "cells": [
  {
   "attachments": {},
   "cell_type": "markdown",
   "metadata": {},
   "source": [
    "## Imports"
   ]
  },
  {
   "cell_type": "code",
   "execution_count": 1,
   "metadata": {},
   "outputs": [],
   "source": [
    "# %load_ext autoreload\n",
    "%reload_ext autoreload\n",
    "%autoreload 2\n",
    "\n",
    "from bs4 import BeautifulSoup as BS\n",
    "import cloudscraper\n",
    "import os.path\n",
    "import json\n",
    "import csv"
   ]
  },
  {
   "attachments": {},
   "cell_type": "markdown",
   "metadata": {},
   "source": [
    "## Get airports and check which ones need different names"
   ]
  },
  {
   "cell_type": "code",
   "execution_count": 46,
   "metadata": {},
   "outputs": [],
   "source": [
    "with open('utils/airports.csv','r',encoding='utf-8-sig') as csvfile: \n",
    "    reader = csv.reader(csvfile, delimiter='\\n')\n",
    "    airports = [x[0] for x in reader]"
   ]
  },
  {
   "attachments": {},
   "cell_type": "markdown",
   "metadata": {},
   "source": [
    "## Get connecting airports"
   ]
  },
  {
   "cell_type": "code",
   "execution_count": 36,
   "metadata": {},
   "outputs": [],
   "source": [
    "# We want to webscrape urls that look like this:\n",
    "# https://www.flightsfrom.com/ATL/destinations?countries=US&durationFrom=44&durationTo=999\n",
    "scraper = cloudscraper.create_scraper()\n",
    "connections = {}\n",
    "if not os.path.isfile(\"utils/outgoing.json\"):\n",
    "    for airport in airports:\n",
    "        url = \"https://www.flightsfrom.com/\" + airport + \"/destinations?countries=US&durationFrom=1&durationTo=999\"\n",
    "        r = scraper.get(url)\n",
    "        soup = BS(r.text, 'html.parser')\n",
    "        outgoingAirports = soup.find_all(class_ = \"airport-font-midheader destination-search-item\")\n",
    "        connections[airport] = []\n",
    "        for outgoing in outgoingAirports:\n",
    "            connections[airport].append(str(outgoing).split(\" \")[-1][:3])\n",
    "        if len(connections[airport]) == 0:\n",
    "            print(airport)\n",
    "            del connections[airport]\n",
    "    json.dump(connections,open(\"utils/outgoing.json\",\"x\"))\n",
    "else:\n",
    "    connections = json.load(open(\"utils/outgoing.json\"))"
   ]
  },
  {
   "attachments": {},
   "cell_type": "markdown",
   "metadata": {},
   "source": [
    "## Create Airport Integer Encodings"
   ]
  },
  {
   "cell_type": "code",
   "execution_count": 39,
   "metadata": {},
   "outputs": [],
   "source": [
    "airport_to_int = {}\n",
    "for i,airport in enumerate(airports):\n",
    "    airport_to_int[airport] = i\n",
    "json.dump(airport_to_int,open(\"utils/airportEncodings.json\",\"x\"))"
   ]
  },
  {
   "attachments": {},
   "cell_type": "markdown",
   "metadata": {},
   "source": [
    "## Create links to all flight searches"
   ]
  },
  {
   "cell_type": "code",
   "execution_count": 37,
   "metadata": {},
   "outputs": [],
   "source": [
    "#We want to create urls that look like this:\n",
    "# \"https://www.google.com/travel/flights?q=one+way+flights+from+BLANK+to+BLANK+on+2023-06-09\"\n",
    "bad = json.load(open('utils/nameSubstitution.json'))\n",
    "if not os.path.isfile(\"utils/flightLinks.csv\"):\n",
    "    f = open(\"utils/flightLinks.csv\",\"x\")\n",
    "    for startAirport in connections.keys():\n",
    "        for endAirport in connections[startAirport]:\n",
    "            if startAirport in bad: startAirport = bad[startAirport]\n",
    "            if endAirport in bad: endAirport = bad[endAirport]\n",
    "            searchURL = \"https://www.google.com/travel/flights?q=one+way+flight+from+\"+startAirport+\"+to+\"+endAirport+\"+on+\"\n",
    "            f.write(searchURL+\"\\n\")\n",
    "    f.close()"
   ]
  }
 ],
 "metadata": {
  "kernelspec": {
   "display_name": "Python 3",
   "language": "python",
   "name": "python3"
  },
  "language_info": {
   "codemirror_mode": {
    "name": "ipython",
    "version": 3
   },
   "file_extension": ".py",
   "mimetype": "text/x-python",
   "name": "python",
   "nbconvert_exporter": "python",
   "pygments_lexer": "ipython3",
   "version": "3.10.0"
  },
  "orig_nbformat": 4
 },
 "nbformat": 4,
 "nbformat_minor": 2
}
